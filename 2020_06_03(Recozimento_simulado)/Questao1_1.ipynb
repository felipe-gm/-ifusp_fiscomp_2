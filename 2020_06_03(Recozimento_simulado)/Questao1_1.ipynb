{
 "cells": [
  {
   "cell_type": "code",
   "execution_count": 1,
   "metadata": {
    "ExecuteTime": {
     "end_time": "2020-06-10T06:36:46.550447Z",
     "start_time": "2020-06-10T06:36:46.067606Z"
    }
   },
   "outputs": [],
   "source": [
    "import numpy as np\n",
    "import matplotlib.pyplot as plt"
   ]
  },
  {
   "cell_type": "markdown",
   "metadata": {},
   "source": [
    "# Parâmetros do problema"
   ]
  },
  {
   "cell_type": "code",
   "execution_count": 2,
   "metadata": {
    "ExecuteTime": {
     "end_time": "2020-06-10T06:36:46.562866Z",
     "start_time": "2020-06-10T06:36:46.553695Z"
    }
   },
   "outputs": [],
   "source": [
    "T0 = 10     # Temperatura inicial do recozimento\n",
    "Tmin = 1e-3 # Temperatura final do recozimento\n",
    "tau = 1e4   # Tempo característico da redução da temperatura\n",
    "\n",
    "passos = int(-tau*np.log(Tmin/T0))"
   ]
  },
  {
   "cell_type": "markdown",
   "metadata": {},
   "source": [
    "# Função para calcular a energia"
   ]
  },
  {
   "cell_type": "code",
   "execution_count": 3,
   "metadata": {
    "ExecuteTime": {
     "end_time": "2020-06-10T06:36:46.577078Z",
     "start_time": "2020-06-10T06:36:46.568844Z"
    }
   },
   "outputs": [],
   "source": [
    "def f(x): return x**2 - np.cos(4*np.pi*x)"
   ]
  },
  {
   "cell_type": "markdown",
   "metadata": {},
   "source": [
    "# Resfriamento"
   ]
  },
  {
   "cell_type": "code",
   "execution_count": 4,
   "metadata": {
    "ExecuteTime": {
     "end_time": "2020-06-10T06:36:46.598141Z",
     "start_time": "2020-06-10T06:36:46.582657Z"
    }
   },
   "outputs": [],
   "source": [
    "T = T0*np.exp(-np.arange(0, passos)/tau) # Inicializando a temperatura"
   ]
  },
  {
   "cell_type": "markdown",
   "metadata": {},
   "source": [
    "# Escolha dos deltas em potencial"
   ]
  },
  {
   "cell_type": "code",
   "execution_count": 5,
   "metadata": {
    "ExecuteTime": {
     "end_time": "2020-06-10T06:36:46.618153Z",
     "start_time": "2020-06-10T06:36:46.601581Z"
    }
   },
   "outputs": [],
   "source": [
    "mu, sigma = 0, 0.1 # mean and standard deviation\n",
    "delta = np.random.default_rng().normal(mu, sigma, passos)"
   ]
  },
  {
   "cell_type": "markdown",
   "metadata": {},
   "source": [
    "# Sinal de rejeição"
   ]
  },
  {
   "cell_type": "code",
   "execution_count": 6,
   "metadata": {
    "ExecuteTime": {
     "end_time": "2020-06-10T06:36:46.683613Z",
     "start_time": "2020-06-10T06:36:46.622756Z"
    }
   },
   "outputs": [],
   "source": [
    "random = np.random.random(passos)"
   ]
  },
  {
   "cell_type": "markdown",
   "metadata": {},
   "source": [
    "# Laço principal"
   ]
  },
  {
   "cell_type": "code",
   "execution_count": 7,
   "metadata": {
    "ExecuteTime": {
     "end_time": "2020-06-10T06:36:46.693686Z",
     "start_time": "2020-06-10T06:36:46.689041Z"
    }
   },
   "outputs": [],
   "source": [
    "x = np.empty(passos+1)\n",
    "x[0] = 2 # Zerando o tempo inicial"
   ]
  },
  {
   "cell_type": "code",
   "execution_count": 8,
   "metadata": {
    "ExecuteTime": {
     "end_time": "2020-06-10T06:36:49.544594Z",
     "start_time": "2020-06-10T06:36:46.696968Z"
    }
   },
   "outputs": [],
   "source": [
    "for t in range(passos):\n",
    "    f1 = f(x[t]+delta[t])   # Energia em x(t)+delta(x)\n",
    "    delta_f = f1 - f(x[t])  # Variação na energia\n",
    "    if random[t]>np.exp(-delta_f/T[t]): \n",
    "        x[t+1] = x[t]\n",
    "    else :  # Se o movimento é aceito, aplicamos delta(t)\n",
    "        x[t+1] = x[t] + delta[t]"
   ]
  },
  {
   "cell_type": "code",
   "execution_count": 9,
   "metadata": {
    "ExecuteTime": {
     "end_time": "2020-06-10T06:36:50.180624Z",
     "start_time": "2020-06-10T06:36:49.549345Z"
    }
   },
   "outputs": [
    {
     "data": {
      "image/png": "[encoded data removed]",
      "text/plain": [
       "<Figure size 432x288 with 1 Axes>"
      ]
     },
     "metadata": {
      "needs_background": "light"
     },
     "output_type": "display_data"
    }
   ],
   "source": [
    "plt.plot(x, label='x(t)')\n",
    "plt.title(\"gráficos do valor de x em função do tempo\")\n",
    "plt.ylabel(\"x\")\n",
    "plt.xlabel(\"tempo\")\n",
    "plt.legend()\n",
    "plt.show()"
   ]
  },
  {
   "cell_type": "code",
   "execution_count": 10,
   "metadata": {
    "ExecuteTime": {
     "end_time": "2020-06-10T06:36:50.200305Z",
     "start_time": "2020-06-10T06:36:50.184579Z"
    }
   },
   "outputs": [
    {
     "name": "stdout",
     "output_type": "stream",
     "text": [
      "A estimativa para x minimizando f é -4.040736632329518e-06\n"
     ]
    }
   ],
   "source": [
    "print(\"A estimativa para x minimizando f é\",x[-1])"
   ]
  }
 ],
 "metadata": {
  "kernelspec": {
   "display_name": "Python 3",
   "language": "python",
   "name": "python3"
  },
  "language_info": {
   "codemirror_mode": {
    "name": "ipython",
    "version": 3
   },
   "file_extension": ".py",
   "mimetype": "text/x-python",
   "name": "python",
   "nbconvert_exporter": "python",
   "pygments_lexer": "ipython3",
   "version": "3.7.6"
  }
 },
 "nbformat": 4,
 "nbformat_minor": 4
}

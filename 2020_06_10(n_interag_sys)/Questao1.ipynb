{
 "cells": [
  {
   "cell_type": "code",
   "execution_count": 1,
   "metadata": {
    "ExecuteTime": {
     "end_time": "2020-06-17T05:39:26.693306Z",
     "start_time": "2020-06-17T05:39:25.843365Z"
    }
   },
   "outputs": [],
   "source": [
    "import numpy as np\n",
    "import matplotlib.pyplot as plt"
   ]
  },
  {
   "cell_type": "markdown",
   "metadata": {},
   "source": [
    "# Parâmetros e constantes da simulação"
   ]
  },
  {
   "cell_type": "code",
   "execution_count": 2,
   "metadata": {
    "ExecuteTime": {
     "end_time": "2020-06-17T05:39:26.699916Z",
     "start_time": "2020-06-17T05:39:26.695813Z"
    }
   },
   "outputs": [],
   "source": [
    "N = 10**4       # Número de momentos magnéticos\n",
    "kB = 1.         # Constante de Boltzmann\n",
    "T = 1.          # Temperatura\n",
    "M = int(1e3)    # Número de passos de Monte Carlo da simulação\n",
    "beta = 1/(kB*T)"
   ]
  },
  {
   "cell_type": "code",
   "execution_count": 3,
   "metadata": {
    "ExecuteTime": {
     "end_time": "2020-06-17T05:39:26.710242Z",
     "start_time": "2020-06-17T05:39:26.704112Z"
    }
   },
   "outputs": [],
   "source": [
    "B = np.linspace(-4, 4, 20)\n",
    "rng = np.random.default_rng()"
   ]
  },
  {
   "cell_type": "markdown",
   "metadata": {},
   "source": [
    "# Matrizes que armazenam os estados"
   ]
  },
  {
   "cell_type": "code",
   "execution_count": 4,
   "metadata": {
    "ExecuteTime": {
     "end_time": "2020-06-17T05:39:36.787585Z",
     "start_time": "2020-06-17T05:39:26.714431Z"
    }
   },
   "outputs": [],
   "source": [
    "# Partimos do estado uniforme -1/2\n",
    "s_t = np.full((M+1,B.size,N), -.5)  \n",
    "# escolhemos alterações possiveis\n",
    "s_rand = rng.choice([-.5,.5], size=(M,B.size,N))\n",
    "aceite_arr = rng.random(size=(M,B.size,N))"
   ]
  },
  {
   "cell_type": "markdown",
   "metadata": {
    "ExecuteTime": {
     "end_time": "2020-06-03T05:15:43.921473Z",
     "start_time": "2020-06-03T05:15:43.837395Z"
    }
   },
   "source": [
    "# Laço principal"
   ]
  },
  {
   "cell_type": "code",
   "execution_count": 5,
   "metadata": {
    "ExecuteTime": {
     "end_time": "2020-06-17T05:39:44.464193Z",
     "start_time": "2020-06-17T05:39:36.838100Z"
    }
   },
   "outputs": [],
   "source": [
    "for k in range(M):     # Percorremos os passos de Monte Carlo\n",
    "    s_change = np.abs(s_rand[k]-s_t[k])    # Cada partícula tem chance de mudar\n",
    "    delta_E = (2*s_t[k].T*B).T\n",
    "    aceite_rand = aceite_arr[k] < np.exp(-beta*delta_E) # Decidimos aceite\n",
    "    # operador temporal\n",
    "    multiplicadores = -s_change*aceite_rand*2 +1    \n",
    "    # Registramos os estados a cada passo de Monte Carlo\n",
    "    s_t[k+1] = s_t[k]*multiplicadores    "
   ]
  },
  {
   "cell_type": "code",
   "execution_count": 6,
   "metadata": {
    "ExecuteTime": {
     "end_time": "2020-06-17T05:39:44.704482Z",
     "start_time": "2020-06-17T05:39:44.495698Z"
    }
   },
   "outputs": [
    {
     "data": {
      "text/plain": [
       "(20, 10000)"
      ]
     },
     "execution_count": 6,
     "metadata": {},
     "output_type": "execute_result"
    }
   ],
   "source": [
    "s_change.shape"
   ]
  },
  {
   "cell_type": "markdown",
   "metadata": {},
   "source": [
    "# Equilibração"
   ]
  },
  {
   "cell_type": "code",
   "execution_count": 7,
   "metadata": {
    "ExecuteTime": {
     "end_time": "2020-06-17T05:39:44.792367Z",
     "start_time": "2020-06-17T05:39:44.707255Z"
    }
   },
   "outputs": [],
   "source": [
    "espera = 10"
   ]
  },
  {
   "cell_type": "code",
   "execution_count": 8,
   "metadata": {
    "ExecuteTime": {
     "end_time": "2020-06-17T05:39:44.876075Z",
     "start_time": "2020-06-17T05:39:44.872815Z"
    },
    "scrolled": true
   },
   "outputs": [],
   "source": [
    "# plt.plot(s_t[espera:].mean(axis=2))\n",
    "# plt.title(\"gráficos dos testes de equilibração\")\n",
    "# plt.ylabel(\"magnetização média por partícula\")\n",
    "# plt.xlabel(\"Passo de Monte Carlo\")\n",
    "# plt.show()"
   ]
  },
  {
   "cell_type": "code",
   "execution_count": 9,
   "metadata": {
    "ExecuteTime": {
     "end_time": "2020-06-17T05:40:09.269946Z",
     "start_time": "2020-06-17T05:39:44.890736Z"
    }
   },
   "outputs": [],
   "source": [
    "m = s_t[espera:].mean(axis=2)"
   ]
  },
  {
   "cell_type": "markdown",
   "metadata": {},
   "source": [
    "# Estimativa de erros"
   ]
  },
  {
   "cell_type": "code",
   "execution_count": 10,
   "metadata": {
    "ExecuteTime": {
     "end_time": "2020-06-17T05:40:09.316910Z",
     "start_time": "2020-06-17T05:40:09.286232Z"
    }
   },
   "outputs": [],
   "source": [
    "m1 = m.mean(axis=0)\n",
    "m2 = (m**2).mean(axis=0)"
   ]
  },
  {
   "cell_type": "code",
   "execution_count": 11,
   "metadata": {
    "ExecuteTime": {
     "end_time": "2020-06-17T05:40:09.371140Z",
     "start_time": "2020-06-17T05:40:09.320368Z"
    }
   },
   "outputs": [],
   "source": [
    "sigma = ((m2-m1**2)/(M-1))**(1/2)"
   ]
  },
  {
   "cell_type": "markdown",
   "metadata": {},
   "source": [
    "# exibição dos gráficos"
   ]
  },
  {
   "cell_type": "code",
   "execution_count": 12,
   "metadata": {
    "ExecuteTime": {
     "end_time": "2020-06-17T05:40:09.412337Z",
     "start_time": "2020-06-17T05:40:09.375622Z"
    }
   },
   "outputs": [],
   "source": [
    "def m(x): return np.tanh(x/(2*kB*T))/2"
   ]
  },
  {
   "cell_type": "code",
   "execution_count": 13,
   "metadata": {
    "ExecuteTime": {
     "end_time": "2020-06-17T05:40:09.431860Z",
     "start_time": "2020-06-17T05:40:09.415025Z"
    }
   },
   "outputs": [],
   "source": [
    "x = np.linspace(-4, 4, int(1e3))"
   ]
  },
  {
   "cell_type": "code",
   "execution_count": 14,
   "metadata": {
    "ExecuteTime": {
     "end_time": "2020-06-17T05:40:10.674859Z",
     "start_time": "2020-06-17T05:40:09.434940Z"
    }
   },
   "outputs": [
    {
     "data": {
      "image/png": "[encoded data removed]",
      "text/plain": [
       "<Figure size 432x288 with 1 Axes>"
      ]
     },
     "metadata": {
      "needs_background": "light"
     },
     "output_type": "display_data"
    }
   ],
   "source": [
    "plt.plot(x, m(x), label='resultado exato')\n",
    "plt.errorbar(B, m1, yerr=sigma, fmt='.', label='resultado simulado')\n",
    "plt.title(\"magnetização média em função de B\")\n",
    "plt.ylabel(\"magnetização de equilíbrio\")\n",
    "plt.xlabel(\"campo magnético B\")\n",
    "plt.legend()\n",
    "plt.show()"
   ]
  },
  {
   "cell_type": "code",
   "execution_count": 15,
   "metadata": {
    "ExecuteTime": {
     "end_time": "2020-06-17T05:40:11.008512Z",
     "start_time": "2020-06-17T05:40:10.678155Z"
    }
   },
   "outputs": [
    {
     "data": {
      "image/png": "[encoded data removed]",
      "text/plain": [
       "<Figure size 432x288 with 1 Axes>"
      ]
     },
     "metadata": {
      "needs_background": "light"
     },
     "output_type": "display_data"
    }
   ],
   "source": [
    "plt.plot(x, m(x)-m(x))\n",
    "plt.errorbar(B, m(B)-m1, yerr=sigma, fmt='.')\n",
    "plt.title(\"residuos\")\n",
    "plt.xlabel(\"campo magnético B\")\n",
    "plt.show()"
   ]
  }
 ],
 "metadata": {
  "kernelspec": {
   "display_name": "Python 3",
   "language": "python",
   "name": "python3"
  },
  "language_info": {
   "codemirror_mode": {
    "name": "ipython",
    "version": 3
   },
   "file_extension": ".py",
   "mimetype": "text/x-python",
   "name": "python",
   "nbconvert_exporter": "python",
   "pygments_lexer": "ipython3",
   "version": "3.7.6"
  }
 },
 "nbformat": 4,
 "nbformat_minor": 4
}

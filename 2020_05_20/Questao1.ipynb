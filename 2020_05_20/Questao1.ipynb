{
 "cells": [
  {
   "cell_type": "code",
   "execution_count": 1,
   "metadata": {
    "ExecuteTime": {
     "end_time": "2020-05-27T04:50:29.983178Z",
     "start_time": "2020-05-27T04:50:29.631931Z"
    }
   },
   "outputs": [],
   "source": [
    "import numpy as np"
   ]
  },
  {
   "cell_type": "markdown",
   "metadata": {},
   "source": [
    "# Parâmetros de integração"
   ]
  },
  {
   "cell_type": "code",
   "execution_count": 2,
   "metadata": {
    "ExecuteTime": {
     "end_time": "2020-05-27T04:50:29.992043Z",
     "start_time": "2020-05-27T04:50:29.986933Z"
    }
   },
   "outputs": [],
   "source": [
    "N = 10**8       # Número de pontos a utilizar para a integração"
   ]
  },
  {
   "cell_type": "markdown",
   "metadata": {},
   "source": [
    "Queremos calcular \n",
    "$$\n",
    "I = \\int_0^1 \\frac{dx}{\\sqrt[2]{x}\\sqrt[3]{1-x}}\n",
    "$$\n",
    "a abordagem para utilizar a amostragem por importância para lidar com \n",
    "ambas as divergências é dividir a integral em dois intervalos, cada um\n",
    "contendo uma das divergencias\n",
    "$$\n",
    "\\begin{align}\n",
    "I &= \\int_0^{\\frac{1}{2}} \\frac{dx}{\\sqrt[2]{x}\\sqrt[3]{1-x}}\n",
    "   + \\int_{\\frac{1}{2}}^1 \\frac{dx}{\\sqrt[2]{x}\\sqrt[3]{1-x}} \\\\\n",
    "  &= \\int_0^{\\frac{1}{2}} \\frac{dx}{\\sqrt[2]{x}\\sqrt[3]{1-x}}\n",
    "   + \\int_0^{\\frac{1}{2}} \\frac{dx}{\\sqrt[2]{1-x}\\sqrt[3]{x}}\n",
    "\\end{align}\n",
    "$$\n",
    "então, para cada uma das integrais, usamos o método de Monte Carlo do\n",
    "valor médio e a amostragem por importância."
   ]
  },
  {
   "cell_type": "markdown",
   "metadata": {},
   "source": [
    "# Definição das funções cujo valor médio será calculado"
   ]
  },
  {
   "cell_type": "code",
   "execution_count": 3,
   "metadata": {
    "ExecuteTime": {
     "end_time": "2020-05-27T04:50:30.003447Z",
     "start_time": "2020-05-27T04:50:29.994725Z"
    }
   },
   "outputs": [],
   "source": [
    "# Note que aqui se trata da função de integração dividida por\n",
    "# w(x)=x**(-1/2)\n",
    "def f0(x):\n",
    "    return 1/((1-x)**(1/3))\n",
    "# Note que aqui se trata da função de integração dividida por\n",
    "# w(x)=x**(-1/3)\n",
    "def f1(x):\n",
    "    return 1/((1-x)**(1/2))"
   ]
  },
  {
   "cell_type": "code",
   "execution_count": 4,
   "metadata": {
    "ExecuteTime": {
     "end_time": "2020-05-27T04:50:30.014301Z",
     "start_time": "2020-05-27T04:50:30.006141Z"
    }
   },
   "outputs": [
    {
     "name": "stdout",
     "output_type": "stream",
     "text": [
      "O valor exato da integral entre x=0 e x=1 é 2.58711...\n",
      "\n"
     ]
    }
   ],
   "source": [
    "print(f\"O valor exato da integral entre x=0 e x=1 é {2.58711}...\")\n",
    "print(\"\")"
   ]
  },
  {
   "cell_type": "markdown",
   "metadata": {
    "ExecuteTime": {
     "end_time": "2020-05-27T04:25:50.587283Z",
     "start_time": "2020-05-27T04:25:50.582557Z"
    }
   },
   "source": [
    "# integração pelo método do valor médio com amostragem por importância"
   ]
  },
  {
   "cell_type": "code",
   "execution_count": 5,
   "metadata": {
    "ExecuteTime": {
     "end_time": "2020-05-27T04:50:30.862094Z",
     "start_time": "2020-05-27T04:50:30.016930Z"
    }
   },
   "outputs": [],
   "source": [
    "rng = np.random.default_rng()\n",
    "z = rng.random((N,))"
   ]
  },
  {
   "cell_type": "code",
   "execution_count": 6,
   "metadata": {
    "ExecuteTime": {
     "end_time": "2020-05-27T04:50:40.806296Z",
     "start_time": "2020-05-27T04:50:30.864894Z"
    }
   },
   "outputs": [],
   "source": [
    "intw0 = 2*(1/2)**(1/2)    # Integral de w(x)=x**(-1/2) entre x=0 e x=0.5\n",
    "intw1 = (3*(1/2)**(2/3))/2# Integral de w(x)=x**(-1/3) entre x=0 e x=0.5\n",
    "\n",
    "fsw_medio0 = np.mean(f0((z**2)/2))\n",
    "fsw_medio1 = np.mean(f1((z**(3/2))/2))"
   ]
  },
  {
   "cell_type": "markdown",
   "metadata": {},
   "source": [
    "# Estimativa para a integral I"
   ]
  },
  {
   "cell_type": "code",
   "execution_count": 7,
   "metadata": {
    "ExecuteTime": {
     "end_time": "2020-05-27T04:50:40.813395Z",
     "start_time": "2020-05-27T04:50:40.808367Z"
    }
   },
   "outputs": [],
   "source": [
    "integral = fsw_medio0*intw0 + fsw_medio1*intw1"
   ]
  },
  {
   "cell_type": "code",
   "execution_count": 8,
   "metadata": {
    "ExecuteTime": {
     "end_time": "2020-05-27T04:50:40.823996Z",
     "start_time": "2020-05-27T04:50:40.818765Z"
    }
   },
   "outputs": [
    {
     "name": "stdout",
     "output_type": "stream",
     "text": [
      "A estimativa para a integral pelo método do valor médio é 2.587128066226577\n",
      "\n"
     ]
    }
   ],
   "source": [
    "print(\"A estimativa para a integral pelo método do valor médio é\",integral)\n",
    "print(\"\")"
   ]
  }
 ],
 "metadata": {
  "kernelspec": {
   "display_name": "Python 3",
   "language": "python",
   "name": "python3"
  },
  "language_info": {
   "codemirror_mode": {
    "name": "ipython",
    "version": 3
   },
   "file_extension": ".py",
   "mimetype": "text/x-python",
   "name": "python",
   "nbconvert_exporter": "python",
   "pygments_lexer": "ipython3",
   "version": "3.7.6"
  }
 },
 "nbformat": 4,
 "nbformat_minor": 4
}

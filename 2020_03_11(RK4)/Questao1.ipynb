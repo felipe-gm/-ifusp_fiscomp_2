{
  "nbformat": 4,
  "nbformat_minor": 0,
  "metadata": {
    "colab": {
      "name": "Questao1.ipynb",
      "provenance": [],
      "toc_visible": true,
      "authorship_tag": "ABX9TyP3+db+uOScOIjIeZvNt0nt",
      "include_colab_link": true
    },
    "kernelspec": {
      "name": "python3",
      "display_name": "Python 3"
    }
  },
  "cells": [
    {
      "cell_type": "markdown",
      "metadata": {
        "id": "view-in-github",
        "colab_type": "text"
      },
      "source": [
        "<a href=\"https://colab.research.google.com/github/felipe-gm/-ifusp_fiscomp_2/blob/master/2020_03_11/Questao1.ipynb\" target=\"_parent\"><img src=\"https://colab.research.google.com/assets/colab-badge.svg\" alt=\"Open In Colab\"/></a>"
      ]
    },
    {
      "cell_type": "code",
      "metadata": {
        "id": "YLBHiOI-E4Uw",
        "colab_type": "code",
        "colab": {}
      },
      "source": [
        "from math import sin, cos, exp, log2\n",
        "from numpy import arange\n",
        "import matplotlib.pyplot as plt"
      ],
      "execution_count": 0,
      "outputs": []
    },
    {
      "cell_type": "markdown",
      "metadata": {
        "id": "lJX_PK7oVCiq",
        "colab_type": "text"
      },
      "source": [
        "O objetivo deste exercício é quantificar a dependência do erro associado ao método de Runge-Kutta de quarta ordem com os parâmetros da equação diferencial, fixado o tamanho do passo de integração."
      ]
    },
    {
      "cell_type": "markdown",
      "metadata": {
        "id": "Ab5bz620A2Vl",
        "colab_type": "text"
      },
      "source": [
        "# Equacao diferencial"
      ]
    },
    {
      "cell_type": "code",
      "metadata": {
        "id": "1e7H8UqgHv9H",
        "colab_type": "code",
        "colab": {}
      },
      "source": [
        "def f(x,t,omega,gamma=1.):\n",
        "  '''Equacao diferencial\n",
        "    dx/dt=−2exp(−γt)[γcos(ωt)+ωsen(ωt)]\n",
        "  '''\n",
        "  return -2*exp(-gamma*t)*(gamma*cos(omega*t)+omega*sin(omega*t))"
      ],
      "execution_count": 0,
      "outputs": []
    },
    {
      "cell_type": "markdown",
      "metadata": {
        "id": "2hIYxJ1rBT8G",
        "colab_type": "text"
      },
      "source": [
        "# Solucao exata da equacao diferencial"
      ]
    },
    {
      "cell_type": "code",
      "metadata": {
        "id": "FmP9urF_yOb9",
        "colab_type": "code",
        "colab": {}
      },
      "source": [
        "def x_exato(t,omega,gamma=1.,x0=0): return x0-2+2*exp(-gamma*t)*cos(omega*t)"
      ],
      "execution_count": 0,
      "outputs": []
    },
    {
      "cell_type": "markdown",
      "metadata": {
        "id": "7YMBcMSEBmPa",
        "colab_type": "text"
      },
      "source": [
        "# Integracao numerica e calculo de erros"
      ]
    },
    {
      "cell_type": "code",
      "metadata": {
        "id": "Kd2dCotpZb2E",
        "colab_type": "code",
        "colab": {}
      },
      "source": [
        "def main(omega,N=100):\n",
        "  \"\"\"Integra numericamente a equação diferencial\n",
        "    dx/dt=−2exp(−γt)(γcost+sent),\n",
        "  no intervalo entre t=0 e t=10, utilizando tanto o método de Euler quanto\n",
        "  o metodo de Runge-Kutta de segunda ordem. Utilizando como condicao \n",
        "  inicial x(0)=0. Calcula o erro medio associado ao calculo.\n",
        "  \"\"\"\n",
        "  a = .0\n",
        "  b = 10.\n",
        "  h = (b-a)/N\n",
        "  x = .0\n",
        "\n",
        "  t_euler = arange(a,b,h)\n",
        "  x_euler = []\n",
        "  for t in t_euler:\n",
        "    x_euler.append(x)\n",
        "    x += h*f(x,t,omega)\n",
        "\n",
        "  t_rk4 = arange(a,b,h)\n",
        "  x_rk4 = []\n",
        "  x = .0\n",
        "  for t in t_rk4:\n",
        "    x_rk4.append(x)\n",
        "    k1 = h*f(x,t,omega)\n",
        "    k2 = h*f(x+.5*k1,t+.5*h,omega)\n",
        "    k3 = h*f(x+.5*k2,t+.5*h,omega)\n",
        "    k4 = h*f(x+k3,t+h,omega)\n",
        "    x += (k1+2*k2+2*k3+k4)\n",
        "\n",
        "  erro_rk4 = ((1/N)*sum([(x_rk4[n]-x_exato(n*h,omega))**2 for n in range(N)]))**(1/2)\n",
        "\n",
        "  return erro_rk4"
      ],
      "execution_count": 0,
      "outputs": []
    },
    {
      "cell_type": "markdown",
      "metadata": {
        "id": "Jr_JfUASB9bt",
        "colab_type": "text"
      },
      "source": [
        "## Listas de erros"
      ]
    },
    {
      "cell_type": "code",
      "metadata": {
        "id": "NR9Q7ZT9KUz0",
        "colab_type": "code",
        "colab": {}
      },
      "source": [
        "omega_set = [1.0,2.0,4.0,8.0,16.0,32.0,64.0,128.0,256.0]\n",
        "ls_erro_rk4 = []\n",
        "for omega in omega_set:\n",
        "  erro_rk4 = main(omega)\n",
        "  ls_erro_rk4.append(erro_rk4)"
      ],
      "execution_count": 0,
      "outputs": []
    },
    {
      "cell_type": "markdown",
      "metadata": {
        "id": "Sv86rsuFCS4S",
        "colab_type": "text"
      },
      "source": [
        "## Plot log-log"
      ]
    },
    {
      "cell_type": "code",
      "metadata": {
        "id": "cM9aObDRP7dP",
        "colab_type": "code",
        "outputId": "a09cac67-21c0-41bc-ec3b-c3dacfcd438b",
        "colab": {
          "base_uri": "https://localhost:8080/",
          "height": 283
        }
      },
      "source": [
        "log_N = [log2(N) for N in omega_set]\n",
        "plt.plot(omega_set, ls_erro_rk4, label='rk4')\n",
        "plt.xlabel(\"erro\")\n",
        "plt.ylabel(\"N\")\n",
        "plt.xscale(\"log\")\n",
        "plt.yscale(\"log\")\n",
        "plt.legend()\n",
        "plt.show()"
      ],
      "execution_count": 6,
      "outputs": [
        {
          "output_type": "display_data",
          "data": {
            "image/png": "[encoded data removed]",
            "text/plain": [
              "<Figure size 432x288 with 1 Axes>"
            ]
          },
          "metadata": {
            "tags": []
          }
        }
      ]
    },
    {
      "cell_type": "markdown",
      "metadata": {
        "id": "DTCl7MobHjdR",
        "colab_type": "text"
      },
      "source": [
        "Voce deve perceber uma mudanca qualitativa no grafico entre as regioes omega<32.0 e omega>32.0. \n",
        "\n",
        "# A que voce atribui essa mudanca?   \n",
        "\n",
        "Atribuo essa mudança à comparação entre frequência do termo cosseno e o tamanho do passo de integração (resolução do método).\n",
        "\n",
        "Estendendo o conjunto de testes de omegas para valores ainda maiores que os propostos, é plausível inferir que temos um fenômeno de transição de fase. Da região em que a resolução da integração captura bem as oscilações do termo cosseno, para a região em que o período do cosseno se torna irrelevante em comparação ao passo (aprox.: omega>128)."
      ]
    }
  ]
}
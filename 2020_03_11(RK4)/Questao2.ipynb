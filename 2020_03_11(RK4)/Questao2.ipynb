{
  "nbformat": 4,
  "nbformat_minor": 0,
  "metadata": {
    "colab": {
      "name": "Questao2.ipynb",
      "provenance": [],
      "authorship_tag": "ABX9TyM3aqG2Aj+2WGKRR6g+w/W4",
      "include_colab_link": true
    },
    "kernelspec": {
      "name": "python3",
      "display_name": "Python 3"
    }
  },
  "cells": [
    {
      "cell_type": "markdown",
      "metadata": {
        "id": "view-in-github",
        "colab_type": "text"
      },
      "source": [
        "<a href=\"https://colab.research.google.com/github/felipe-gm/-ifusp_fiscomp_2/blob/master/2020_03_11/Questao2.ipynb\" target=\"_parent\"><img src=\"https://colab.research.google.com/assets/colab-badge.svg\" alt=\"Open In Colab\"/></a>"
      ]
    },
    {
      "cell_type": "code",
      "metadata": {
        "id": "vtwJRhBs6NP8",
        "colab_type": "code",
        "colab": {}
      },
      "source": [
        "import matplotlib.pyplot as plt\n",
        "\n",
        "from numpy import tanh, arctanh, arctan, arange"
      ],
      "execution_count": 0,
      "outputs": []
    },
    {
      "cell_type": "markdown",
      "metadata": {
        "id": "1dEWT5v8IEFO",
        "colab_type": "text"
      },
      "source": [
        "Equacao diferencial"
      ]
    },
    {
      "cell_type": "code",
      "metadata": {
        "id": "zP17MLPu30Wg",
        "colab_type": "code",
        "colab": {}
      },
      "source": [
        "def g(x,u):\n",
        "  t = arctanh(u)\n",
        "  f = 1/(x**2+t**2)\n",
        "  return f/(1+u**2)"
      ],
      "execution_count": 0,
      "outputs": []
    },
    {
      "cell_type": "markdown",
      "metadata": {
        "id": "A2rcPObsIfLp",
        "colab_type": "text"
      },
      "source": [
        "Calcula um passo no metodo RK4"
      ]
    },
    {
      "cell_type": "code",
      "metadata": {
        "id": "s8Y_AlQg7_l4",
        "colab_type": "code",
        "colab": {}
      },
      "source": [
        "def passo_rk4(f,x,t,h):\n",
        "  k1 = h*f(x,t)\n",
        "  k2 = h*f(x+.5*k1,t+.5*h)\n",
        "  k3 = h*f(x+.5*k2,t+.5*h)\n",
        "  k4 = h*f(x+k3,t+h)\n",
        "  return (k1+2.*(k2+k3)+k4)/6."
      ],
      "execution_count": 0,
      "outputs": []
    },
    {
      "cell_type": "markdown",
      "metadata": {
        "id": "pH-iElyTIpkg",
        "colab_type": "text"
      },
      "source": [
        "Definicao de intervalo e condicao inicial"
      ]
    },
    {
      "cell_type": "code",
      "metadata": {
        "id": "kKJvFTDzAznF",
        "colab_type": "code",
        "colab": {}
      },
      "source": [
        "a = tanh(0)\n",
        "b = tanh(8)\n",
        "xa = 1"
      ],
      "execution_count": 0,
      "outputs": []
    },
    {
      "cell_type": "markdown",
      "metadata": {
        "id": "-w1dLihaIyQM",
        "colab_type": "text"
      },
      "source": [
        "Definicao de numero e tamanho de passos da integracao numerica"
      ]
    },
    {
      "cell_type": "code",
      "metadata": {
        "id": "0x8t9OtsBeUk",
        "colab_type": "code",
        "colab": {}
      },
      "source": [
        "N = 100\n",
        "h = (b-a)/N"
      ],
      "execution_count": 0,
      "outputs": []
    },
    {
      "cell_type": "markdown",
      "metadata": {
        "id": "iHqn_I61JHYu",
        "colab_type": "text"
      },
      "source": [
        "Integracao numerica"
      ]
    },
    {
      "cell_type": "code",
      "metadata": {
        "id": "lrazGn3pBkYj",
        "colab_type": "code",
        "colab": {}
      },
      "source": [
        "xrk4 = xa\n",
        "u_rk4 = arange(a,b,h)\n",
        "t_rk4 = []\n",
        "x_rk4 = []"
      ],
      "execution_count": 0,
      "outputs": []
    },
    {
      "cell_type": "code",
      "metadata": {
        "id": "WnPU4AL5B_qr",
        "colab_type": "code",
        "colab": {}
      },
      "source": [
        "for u in u_rk4:\n",
        "  t = arctanh(u)\n",
        "  t_rk4.append(t)\n",
        "  x_rk4.append(xrk4)\n",
        "  xrk4 += passo_rk4(g,xrk4,u,h)"
      ],
      "execution_count": 0,
      "outputs": []
    },
    {
      "cell_type": "markdown",
      "metadata": {
        "id": "MNnPVz_4Jutd",
        "colab_type": "text"
      },
      "source": [
        "Graficando"
      ]
    },
    {
      "cell_type": "code",
      "metadata": {
        "id": "xrrkq4hyCjE0",
        "colab_type": "code",
        "colab": {
          "base_uri": "https://localhost:8080/",
          "height": 279
        },
        "outputId": "fb00ac2f-54f7-4fbd-afbe-96ee3e11b203"
      },
      "source": [
        "plt.plot(t_rk4, x_rk4, label='x(t)')\n",
        "plt.xlabel(\"t\")\n",
        "plt.ylabel(\"x\")\n",
        "plt.legend()\n",
        "plt.show()"
      ],
      "execution_count": 8,
      "outputs": [
        {
          "output_type": "display_data",
          "data": {
            "image/png": "[encoded data removed]",
            "text/plain": [
              "<Figure size 432x288 with 1 Axes>"
            ]
          },
          "metadata": {
            "tags": []
          }
        }
      ]
    }
  ]
}
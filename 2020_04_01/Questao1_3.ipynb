{
  "nbformat": 4,
  "nbformat_minor": 0,
  "metadata": {
    "colab": {
      "name": "Questao1_3.ipynb",
      "provenance": [],
      "authorship_tag": "ABX9TyNZUr7y0CafmSAxUSHypo/9",
      "include_colab_link": true
    },
    "kernelspec": {
      "name": "python3",
      "display_name": "Python 3"
    }
  },
  "cells": [
    {
      "cell_type": "markdown",
      "metadata": {
        "id": "view-in-github",
        "colab_type": "text"
      },
      "source": [
        "<a href=\"https://colab.research.google.com/github/felipe-gm/ifusp_fiscomp_2/blob/master/2020_04_01/Questao1_3.ipynb\" target=\"_parent\"><img src=\"https://colab.research.google.com/assets/colab-badge.svg\" alt=\"Open In Colab\"/></a>"
      ]
    },
    {
      "cell_type": "markdown",
      "metadata": {
        "id": "Ab_RIrlGRABj",
        "colab_type": "text"
      },
      "source": [
        "Related third party imports"
      ]
    },
    {
      "cell_type": "code",
      "metadata": {
        "id": "_-aX456ZNW34",
        "colab_type": "code",
        "colab": {}
      },
      "source": [
        "import matplotlib.pyplot as plt\n",
        "\n",
        "from numpy import arange, array, sin, cos, arccos, exp, mean"
      ],
      "execution_count": 0,
      "outputs": []
    },
    {
      "cell_type": "markdown",
      "metadata": {
        "id": "Gv1Cn5cvRGA_",
        "colab_type": "text"
      },
      "source": [
        "Variaveis globais"
      ]
    },
    {
      "cell_type": "code",
      "metadata": {
        "id": "Wv9wUhWAREUh",
        "colab_type": "code",
        "colab": {}
      },
      "source": [
        "a = .0        # Inicio do intervalo da variavel independente \n",
        "b = 100.      # Final do intervalo da variavel independente\n",
        "h = 1e-2      # Tamanho inicial de um passo de integracao\n",
        "prec = 1e-4   # Precisao desejada do passo"
      ],
      "execution_count": 0,
      "outputs": []
    },
    {
      "cell_type": "markdown",
      "metadata": {
        "id": "4yw-_g7LSRfj",
        "colab_type": "text"
      },
      "source": [
        "Constantes"
      ]
    },
    {
      "cell_type": "code",
      "metadata": {
        "id": "Cms5bzv4SQy6",
        "colab_type": "code",
        "colab": {}
      },
      "source": [
        "K, M, RHO, F_EXT, LS_OMEGA_EXT = 1., 1., .4, 1., arange(.5, 3., .1)"
      ],
      "execution_count": 0,
      "outputs": []
    },
    {
      "cell_type": "markdown",
      "metadata": {
        "id": "l5yppjtPV66A",
        "colab_type": "text"
      },
      "source": [
        "# Equacoes de diferenca"
      ]
    },
    {
      "cell_type": "code",
      "metadata": {
        "id": "VsezeoIXVpES",
        "colab_type": "code",
        "colab": {}
      },
      "source": [
        "def f(r,t):\n",
        "    x, y = r[0], r[1]\n",
        "    fx, fy = y, (-K*x -RHO*y +F_EXT*cos(OMEGA_EXT*t))/M\n",
        "    return array([fx, fy], float)"
      ],
      "execution_count": 0,
      "outputs": []
    },
    {
      "cell_type": "code",
      "metadata": {
        "id": "p1An556rZW_W",
        "colab_type": "code",
        "colab": {}
      },
      "source": [
        "def solucao_analitica(t):\n",
        "    return x_trans(t) + x_est(t)"
      ],
      "execution_count": 0,
      "outputs": []
    },
    {
      "cell_type": "code",
      "metadata": {
        "id": "kGuVlO22aq4L",
        "colab_type": "code",
        "colab": {}
      },
      "source": [
        "def x_est(t):\n",
        "    omega_0 = (K/M)**(1/2)\n",
        "    gamma = RHO/M\n",
        "\n",
        "    A_ext = F_EXT/(\n",
        "        M\n",
        "        *(\n",
        "            (omega_0**2 - OMEGA_EXT**2)**2\n",
        "            + gamma**2 * OMEGA_EXT**2\n",
        "        )**(1/2)\n",
        "    )\n",
        "\n",
        "    phi = -arccos(\n",
        "        (omega_0**2 - OMEGA_EXT**2)\n",
        "        /(\n",
        "            (omega_0**2 - OMEGA_EXT**2)**2\n",
        "            + gamma**2 * OMEGA_EXT**2\n",
        "        )**(1/2)\n",
        "    )\n",
        "\n",
        "    return A_ext * cos(OMEGA_EXT*t + phi)"
      ],
      "execution_count": 0,
      "outputs": []
    },
    {
      "cell_type": "code",
      "metadata": {
        "id": "Y1cZhVPWwzLa",
        "colab_type": "code",
        "colab": {}
      },
      "source": [
        "def x_trans(t):\n",
        "    omega_0 = (K/M)**(1/2)\n",
        "    gamma = RHO/M\n",
        "\n",
        "    omega = (omega_0**2 - (gamma**2)/4)**(1/2)\n",
        "\n",
        "    alpha, beta = (1.-x_est(a)), (-1. + gamma*(1.-x_est(a))/2.)/omega\n",
        "\n",
        "    return exp(-gamma*t/2)*(alpha*cos(omega*t) + beta*sin(omega*t))"
      ],
      "execution_count": 0,
      "outputs": []
    },
    {
      "cell_type": "markdown",
      "metadata": {
        "id": "eVcRITo7TXXs",
        "colab_type": "text"
      },
      "source": [
        "# Integracao numerica"
      ]
    },
    {
      "cell_type": "code",
      "metadata": {
        "id": "qGSAEH3wVOY6",
        "colab_type": "code",
        "colab": {}
      },
      "source": [
        "def passo_rk4(f,r,t,h):\n",
        "    \"\"\"Calcula um passo no metodo de RK4\n",
        "\n",
        "    Positional arguments:\n",
        "    f -- equacao de difereca multidimensional (type function)\n",
        "    r -- vetor vetor de posicao no espaco de estados (type numpy.ndarray)\n",
        "    t -- tempo (type float)\n",
        "    h -- tamnho de um passo de integracao (type float)\n",
        "    \"\"\"\n",
        "    k1 = h*f(r,t)\n",
        "    k2 = h*f(r+.5*k1,t+.5*h)\n",
        "    k3 = h*f(r+.5*k2,t+.5*h)\n",
        "    k4 = h*f(r+k3,t+h)\n",
        "    return (k1+2.*(k2+k3)+k4)/6."
      ],
      "execution_count": 0,
      "outputs": []
    },
    {
      "cell_type": "code",
      "metadata": {
        "id": "Iguda_3RXZEY",
        "colab_type": "code",
        "colab": {}
      },
      "source": [
        "def passo_adapt_extloc(f,r,t,h,prec): # Passo adaptativo com extrapolação local\n",
        "    razao = 1.0 + 1e-10               # Começamos com uma razão igual a 1\n",
        "    while razao >= 1.0 + 1e-10:       # Laço até que a razão seja menor que 1\n",
        "        h /= razao                              # Ajustamos o tamanho do passo\n",
        "        dr21 = passo_rk4(f,r,t,h)               # Um passo de tamanho h\n",
        "        dr2 = dr21 + passo_rk4(f,r+dr21,t+h,h)  # Dois passos de tamanho h\n",
        "        dr1 = passo_rk4(f,r,t,2*h)              # Um só passo de tamanho 2h\n",
        "        epsilon = (dr2 - dr1)/30\n",
        "        # Erro estimado em um passo h:\n",
        "        erro = abs(epsilon[0]) \n",
        "        razao = (erro/(h*prec))**0.25\n",
        "    h_prox = min(h/(razao+1e-10),2*h)           # Limitando o aumento do passo\n",
        "    dr = dr2 + (dr2 - dr1)/15\n",
        "    return dr, 2*h, h_prox      # Retorna o incremento de r e os tamanhos\n",
        "                                # do passo atual e do próximo passo "
      ],
      "execution_count": 0,
      "outputs": []
    },
    {
      "cell_type": "markdown",
      "metadata": {
        "id": "whQb32lSTcqW",
        "colab_type": "text"
      },
      "source": [
        "Condicoes iniciais (e.g.: r(a))"
      ]
    },
    {
      "cell_type": "code",
      "metadata": {
        "id": "nWmS7fuGejQ-",
        "colab_type": "code",
        "colab": {}
      },
      "source": [
        "ls_mean_err = []\n",
        "for OMEGA_EXT in LS_OMEGA_EXT:\n",
        "    ra = array([1.,-1.],float)\n",
        "    r = ra\n",
        "    t = a\n",
        "    h_atual = h\n",
        "\n",
        "    t_lista, x_lista, err_lista, h_lista = [], [], [], []\n",
        "\n",
        "    while t<=b:\n",
        "        t_lista.append(t)\n",
        "        x_lista.append(r[0])\n",
        "        err_lista.append(abs(r[0]-solucao_analitica(t)))\n",
        "        h_lista.append(h_atual)\n",
        "        dr, h_atual, h_prox = passo_adapt_extloc(f,r,t,h,prec)\n",
        "        t, r = t + h_atual, r + dr\n",
        "        h = h_prox\n",
        "\n",
        "    ls_mean_err.append(mean(err_lista))"
      ],
      "execution_count": 0,
      "outputs": []
    },
    {
      "cell_type": "code",
      "metadata": {
        "id": "5o4NJsgrXByc",
        "colab_type": "code",
        "outputId": "3660b5aa-3f17-4d52-cc23-5394a547605d",
        "colab": {
          "base_uri": "https://localhost:8080/",
          "height": 281
        }
      },
      "source": [
        "plt.plot(LS_OMEGA_EXT, ls_mean_err, '.', label='media simples')\n",
        "plt.xlabel(\"omega_ext\")\n",
        "plt.ylabel(\"erro medio\")\n",
        "plt.legend(loc='upper right')\n",
        "plt.show()"
      ],
      "execution_count": 0,
      "outputs": [
        {
          "output_type": "display_data",
          "data": {
            "image/png": "[encoded data removed]",
            "text/plain": [
              "<Figure size 432x288 with 1 Axes>"
            ]
          },
          "metadata": {
            "tags": []
          }
        }
      ]
    }
  ]
}
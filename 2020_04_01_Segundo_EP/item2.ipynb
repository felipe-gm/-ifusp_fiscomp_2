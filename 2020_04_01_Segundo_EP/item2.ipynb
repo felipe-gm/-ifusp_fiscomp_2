{
 "cells": [
  {
   "cell_type": "markdown",
   "metadata": {
    "colab_type": "text",
    "id": "view-in-github"
   },
   "source": [
    "<a href=\"https://colab.research.google.com/github/felipe-gm/ifusp_fiscomp_2/blob/master/2020_04_01_Segundo_EP/item2.ipynb\" target=\"_parent\"><img src=\"https://colab.research.google.com/assets/colab-badge.svg\" alt=\"Open In Colab\"/></a>"
   ]
  },
  {
   "cell_type": "markdown",
   "metadata": {
    "colab_type": "text",
    "id": "Ab_RIrlGRABj"
   },
   "source": [
    "Related third party imports"
   ]
  },
  {
   "cell_type": "code",
   "execution_count": 0,
   "metadata": {
    "colab": {},
    "colab_type": "code",
    "id": "_-aX456ZNW34"
   },
   "outputs": [],
   "source": [
    "import matplotlib.pyplot as plt\n",
    "\n",
    "from numpy import arange, array, concatenate\n",
    "from numpy import linalg as LA"
   ]
  },
  {
   "cell_type": "markdown",
   "metadata": {
    "colab_type": "text",
    "id": "Gv1Cn5cvRGA_"
   },
   "source": [
    "Variaveis globais"
   ]
  },
  {
   "cell_type": "code",
   "execution_count": 0,
   "metadata": {
    "colab": {},
    "colab_type": "code",
    "id": "Wv9wUhWAREUh"
   },
   "outputs": [],
   "source": [
    "a = .0        # Inicio do intervalo da variavel independente \n",
    "b = 2.        # Final do intervalo da variavel independente\n",
    "h = 1e-1      # Tamanho inicial de um passo de integracao\n",
    "prec = 1e-5   # Precisao desejada do passo"
   ]
  },
  {
   "cell_type": "markdown",
   "metadata": {
    "colab_type": "text",
    "id": "4yw-_g7LSRfj"
   },
   "source": [
    "Constantes"
   ]
  },
  {
   "cell_type": "code",
   "execution_count": 0,
   "metadata": {
    "colab": {},
    "colab_type": "code",
    "id": "Cms5bzv4SQy6"
   },
   "outputs": [],
   "source": [
    "M1, M2, M3, G = 150., 200.,  250., 1."
   ]
  },
  {
   "cell_type": "markdown",
   "metadata": {
    "colab_type": "text",
    "id": "l5yppjtPV66A"
   },
   "source": [
    "# Equacoes de diferenca"
   ]
  },
  {
   "cell_type": "code",
   "execution_count": 0,
   "metadata": {
    "colab": {},
    "colab_type": "code",
    "id": "8KtJc7NzeQI7"
   },
   "outputs": [],
   "source": [
    "def f(r,t):\n",
    "    return concatenate([f1(r,t), f2(r,t), f3(r,t)])"
   ]
  },
  {
   "cell_type": "code",
   "execution_count": 0,
   "metadata": {
    "colab": {},
    "colab_type": "code",
    "id": "VsezeoIXVpES"
   },
   "outputs": [],
   "source": [
    "def f1(r,t):\n",
    "    r1, v1 = r[0:2], r[2:4]\n",
    "    fr = v1 \n",
    "    fv = (\n",
    "        -G*M2*(r1-r[4:6])/LA.norm(r1-r[4:6])**3\n",
    "        -G*M3*(r1-r[8:10])/LA.norm(r1-r[8:10])**3\n",
    "    )\n",
    "    return concatenate([fr, fv])"
   ]
  },
  {
   "cell_type": "code",
   "execution_count": 0,
   "metadata": {
    "colab": {},
    "colab_type": "code",
    "id": "jS-h0baYXRgM"
   },
   "outputs": [],
   "source": [
    "def f2(r,t):\n",
    "    r2, v2 = r[4:6], r[6:8]\n",
    "    fr = v2 \n",
    "    fv = (\n",
    "        -G*M1*(r2-r[0:2])/LA.norm(r2-r[0:2])**3\n",
    "        -G*M3*(r2-r[8:10])/LA.norm(r2-r[8:10])**3\n",
    "    )\n",
    "    return concatenate([fr, fv])"
   ]
  },
  {
   "cell_type": "code",
   "execution_count": 0,
   "metadata": {
    "colab": {},
    "colab_type": "code",
    "id": "p1An556rZW_W"
   },
   "outputs": [],
   "source": [
    "def f3(r,t):\n",
    "    r3, v3 = r[8:10], r[10:12]\n",
    "    fr = v3 \n",
    "    fv = (\n",
    "        -G*M1*(r3-r[0:2])/LA.norm(r3-r[0:2])**3\n",
    "        -G*M2*(r3-r[4:6])/LA.norm(r3-r[4:6])**3\n",
    "    )\n",
    "    return concatenate([fr, fv])"
   ]
  },
  {
   "cell_type": "markdown",
   "metadata": {
    "colab_type": "text",
    "id": "eVcRITo7TXXs"
   },
   "source": [
    "# Integracao numerica"
   ]
  },
  {
   "cell_type": "code",
   "execution_count": 0,
   "metadata": {
    "colab": {},
    "colab_type": "code",
    "id": "qGSAEH3wVOY6"
   },
   "outputs": [],
   "source": [
    "def passo_rk4(f,r,t,h):\n",
    "    \"\"\"Calcula um passo no metodo de RK4\n",
    "\n",
    "    Positional arguments:\n",
    "    f -- equacao de difereca multidimensional (type function)\n",
    "    r -- vetor vetor de posicao no espaco de estados (type numpy.ndarray)\n",
    "    t -- tempo (type float)\n",
    "    h -- tamnho de um passo de integracao (type float)\n",
    "    \"\"\"\n",
    "    k1 = h*f(r,t)\n",
    "    k2 = h*f(r+.5*k1,t+.5*h)\n",
    "    k3 = h*f(r+.5*k2,t+.5*h)\n",
    "    k4 = h*f(r+k3,t+h)\n",
    "    return (k1+2.*(k2+k3)+k4)/6."
   ]
  },
  {
   "cell_type": "code",
   "execution_count": 0,
   "metadata": {
    "colab": {},
    "colab_type": "code",
    "id": "Iguda_3RXZEY"
   },
   "outputs": [],
   "source": [
    "def passo_adapt_extloc(f,r,t,h,prec): # Passo adaptativo com extrapolação local\n",
    "    razao = 1.0 + 1e-10               # Começamos com uma razão igual a 1\n",
    "    while razao >= 1.0 + 1e-10:       # Laço até que a razão seja menor que 1\n",
    "        h /= razao                              # Ajustamos o tamanho do passo\n",
    "        dr21 = passo_rk4(f,r,t,h)               # Um passo de tamanho h\n",
    "        dr2 = dr21 + passo_rk4(f,r+dr21,t+h,h)  # Dois passos de tamanho h\n",
    "        dr1 = passo_rk4(f,r,t,2*h)              # Um só passo de tamanho 2h\n",
    "        epsilon = (dr2 - dr1)/30\n",
    "        # Erro estimado em um passo h:\n",
    "        erro = LA.norm(concatenate([epsilon[0:2], \n",
    "                                    epsilon[4:6], \n",
    "                                    epsilon[8:10]]))\n",
    "        razao = (erro/(h*prec))**0.25\n",
    "    h_prox = min(h/(razao+1e-10),2*h)           # Limitando o aumento do passo\n",
    "    dr = dr2 + (dr2 - dr1)/15\n",
    "    return dr, 2*h, h_prox      # Retorna o incremento de r e os tamanhos\n",
    "                                # do passo atual e do próximo passo "
   ]
  },
  {
   "cell_type": "markdown",
   "metadata": {
    "colab_type": "text",
    "id": "whQb32lSTcqW"
   },
   "source": [
    "Condicoes iniciais (e.g.: r(a))"
   ]
  },
  {
   "cell_type": "code",
   "execution_count": 10,
   "metadata": {
    "colab": {
     "base_uri": "https://localhost:8080/",
     "height": 279
    },
    "colab_type": "code",
    "id": "5o4NJsgrXByc",
    "outputId": "94ca895d-20c1-4ff9-8226-56af2bf24928"
   },
   "outputs": [
    {
     "data": {
      "image/png": "[encoded data removed]",
      "text/plain": [
       "<Figure size 432x288 with 1 Axes>"
      ]
     },
     "metadata": {
      "needs_background": "light",
      "tags": []
     },
     "output_type": "display_data"
    }
   ],
   "source": [
    "ra = array([ 3., 1.,.0,.0,\n",
    "            -1.,-2.,.0,.0,\n",
    "            -1., 1.,.0,.0 ],float)\n",
    "r = ra\n",
    "t = a\n",
    "h_atual = h\n",
    "\n",
    "x1_lista, y1_lista = [], []\n",
    "x2_lista, y2_lista = [], []\n",
    "x3_lista, y3_lista = [], [] \n",
    "\n",
    "while t<=b:\n",
    "    x1_lista.append(r[0])\n",
    "    y1_lista.append(r[1])\n",
    "    x2_lista.append(r[4])\n",
    "    y2_lista.append(r[5])\n",
    "    x3_lista.append(r[8])\n",
    "    y3_lista.append(r[9])\n",
    "    dr, h_atual, h_prox = passo_adapt_extloc(f,r,t,h,prec)\n",
    "    t, r = t + h_atual, r + dr\n",
    "    h = h_prox\n",
    "\n",
    "plt.plot(x1_lista, y1_lista, label=f'Estrela 1')\n",
    "plt.plot(x2_lista, y2_lista, label=f'Estrela 2')\n",
    "plt.plot(x3_lista, y3_lista, label=f'Estrela 3')\n",
    "plt.xlabel(\"x(t)\")\n",
    "plt.ylabel(\"y(t)\")\n",
    "plt.legend(loc='lower right')\n",
    "plt.show()"
   ]
  }
 ],
 "metadata": {
  "colab": {
   "authorship_tag": "ABX9TyPR8p3go1vkQdv1UbQnObcx",
   "include_colab_link": true,
   "name": "item2.ipynb",
   "provenance": []
  },
  "kernelspec": {
   "display_name": "Python 3",
   "language": "python",
   "name": "python3"
  },
  "language_info": {
   "codemirror_mode": {
    "name": "ipython",
    "version": 3
   },
   "file_extension": ".py",
   "mimetype": "text/x-python",
   "name": "python",
   "nbconvert_exporter": "python",
   "pygments_lexer": "ipython3",
   "version": "3.7.6"
  }
 },
 "nbformat": 4,
 "nbformat_minor": 1
}

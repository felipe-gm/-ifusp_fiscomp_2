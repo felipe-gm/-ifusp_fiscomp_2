{
 "cells": [
  {
   "cell_type": "markdown",
   "metadata": {
    "colab_type": "text",
    "id": "view-in-github"
   },
   "source": [
    "<a href=\"https://colab.research.google.com/github/felipe-gm/ifusp_fiscomp_2/blob/master/2020_04_01/Questao1_1e2.ipynb\" target=\"_parent\"><img src=\"https://colab.research.google.com/assets/colab-badge.svg\" alt=\"Open In Colab\"/></a>"
   ]
  },
  {
   "cell_type": "markdown",
   "metadata": {
    "colab_type": "text",
    "id": "Ab_RIrlGRABj"
   },
   "source": [
    "Related third party imports"
   ]
  },
  {
   "cell_type": "code",
   "execution_count": 0,
   "metadata": {
    "colab": {},
    "colab_type": "code",
    "id": "_-aX456ZNW34"
   },
   "outputs": [],
   "source": [
    "import matplotlib.pyplot as plt\n",
    "\n",
    "from numpy import arange, array, sin, cos, arccos, exp"
   ]
  },
  {
   "cell_type": "markdown",
   "metadata": {
    "colab_type": "text",
    "id": "Gv1Cn5cvRGA_"
   },
   "source": [
    "Variaveis globais"
   ]
  },
  {
   "cell_type": "code",
   "execution_count": 0,
   "metadata": {
    "colab": {},
    "colab_type": "code",
    "id": "Wv9wUhWAREUh"
   },
   "outputs": [],
   "source": [
    "a = .0        # Inicio do intervalo da variavel independente \n",
    "b = 100.      # Final do intervalo da variavel independente\n",
    "h = 1e-2      # Tamanho inicial de um passo de integracao\n",
    "prec = 1e-4   # Precisao desejada do passo"
   ]
  },
  {
   "cell_type": "markdown",
   "metadata": {
    "colab_type": "text",
    "id": "4yw-_g7LSRfj"
   },
   "source": [
    "Constantes"
   ]
  },
  {
   "cell_type": "code",
   "execution_count": 0,
   "metadata": {
    "colab": {},
    "colab_type": "code",
    "id": "Cms5bzv4SQy6"
   },
   "outputs": [],
   "source": [
    "K, M, RHO, F_EXT, OMEGA_EXT = 1., 1., .4, 1., .1"
   ]
  },
  {
   "cell_type": "markdown",
   "metadata": {
    "colab_type": "text",
    "id": "l5yppjtPV66A"
   },
   "source": [
    "# Equacoes de diferenca"
   ]
  },
  {
   "cell_type": "code",
   "execution_count": 0,
   "metadata": {
    "colab": {},
    "colab_type": "code",
    "id": "VsezeoIXVpES"
   },
   "outputs": [],
   "source": [
    "def f(r,t):\n",
    "    x, y = r[0], r[1]\n",
    "    fx, fy = y, (-K*x -RHO*y +F_EXT*cos(OMEGA_EXT*t))/M\n",
    "    return array([fx, fy], float)"
   ]
  },
  {
   "cell_type": "code",
   "execution_count": 0,
   "metadata": {
    "colab": {},
    "colab_type": "code",
    "id": "p1An556rZW_W"
   },
   "outputs": [],
   "source": [
    "def solucao_analitica(t):\n",
    "    return x_trans(t) + x_est(t)"
   ]
  },
  {
   "cell_type": "code",
   "execution_count": 0,
   "metadata": {
    "colab": {},
    "colab_type": "code",
    "id": "kGuVlO22aq4L"
   },
   "outputs": [],
   "source": [
    "def x_est(t):\n",
    "    omega_0 = (K/M)**(1/2)\n",
    "    gamma = RHO/M\n",
    "\n",
    "    A_ext = F_EXT/(\n",
    "        M\n",
    "        *(\n",
    "            (omega_0**2 - OMEGA_EXT**2)**2\n",
    "            + gamma**2 * OMEGA_EXT**2\n",
    "        )**(1/2)\n",
    "    )\n",
    "\n",
    "    phi = -arccos(\n",
    "        (omega_0**2 - OMEGA_EXT**2)\n",
    "        /(\n",
    "            (omega_0**2 - OMEGA_EXT**2)**2\n",
    "            + gamma**2 * OMEGA_EXT**2\n",
    "        )**(1/2)\n",
    "    )\n",
    "\n",
    "    return A_ext * cos(OMEGA_EXT*t + phi)"
   ]
  },
  {
   "cell_type": "code",
   "execution_count": 0,
   "metadata": {
    "colab": {},
    "colab_type": "code",
    "id": "Y1cZhVPWwzLa"
   },
   "outputs": [],
   "source": [
    "def x_trans(t):\n",
    "    omega_0 = (K/M)**(1/2)\n",
    "    gamma = RHO/M\n",
    "\n",
    "    omega = (omega_0**2 - (gamma**2)/4)**(1/2)\n",
    "\n",
    "    alpha, beta = (1.-x_est(a)), (-1. + gamma*(1.-x_est(a))/2.)/omega\n",
    "\n",
    "    return exp(-gamma*t/2)*(alpha*cos(omega*t) + beta*sin(omega*t))"
   ]
  },
  {
   "cell_type": "markdown",
   "metadata": {
    "colab_type": "text",
    "id": "eVcRITo7TXXs"
   },
   "source": [
    "# Integracao numerica"
   ]
  },
  {
   "cell_type": "code",
   "execution_count": 0,
   "metadata": {
    "colab": {},
    "colab_type": "code",
    "id": "qGSAEH3wVOY6"
   },
   "outputs": [],
   "source": [
    "def passo_rk4(f,r,t,h):\n",
    "    \"\"\"Calcula um passo no metodo de RK4\n",
    "\n",
    "    Positional arguments:\n",
    "    f -- equacao de difereca multidimensional (type function)\n",
    "    r -- vetor vetor de posicao no espaco de estados (type numpy.ndarray)\n",
    "    t -- tempo (type float)\n",
    "    h -- tamnho de um passo de integracao (type float)\n",
    "    \"\"\"\n",
    "    k1 = h*f(r,t)\n",
    "    k2 = h*f(r+.5*k1,t+.5*h)\n",
    "    k3 = h*f(r+.5*k2,t+.5*h)\n",
    "    k4 = h*f(r+k3,t+h)\n",
    "    return (k1+2.*(k2+k3)+k4)/6."
   ]
  },
  {
   "cell_type": "code",
   "execution_count": 0,
   "metadata": {
    "colab": {},
    "colab_type": "code",
    "id": "Iguda_3RXZEY"
   },
   "outputs": [],
   "source": [
    "def passo_adapt_extloc(f,r,t,h,prec): # Passo adaptativo com extrapolação local\n",
    "    razao = 1.0 + 1e-10               # Começamos com uma razão igual a 1\n",
    "    while razao >= 1.0 + 1e-10:       # Laço até que a razão seja menor que 1\n",
    "        h /= razao                              # Ajustamos o tamanho do passo\n",
    "        dr21 = passo_rk4(f,r,t,h)               # Um passo de tamanho h\n",
    "        dr2 = dr21 + passo_rk4(f,r+dr21,t+h,h)  # Dois passos de tamanho h\n",
    "        dr1 = passo_rk4(f,r,t,2*h)              # Um só passo de tamanho 2h\n",
    "        epsilon = (dr2 - dr1)/30\n",
    "        # Erro estimado em um passo h:\n",
    "        erro = abs(epsilon[0]) \n",
    "        razao = (erro/(h*prec))**0.25\n",
    "    h_prox = min(h/(razao+1e-10),2*h)           # Limitando o aumento do passo\n",
    "    dr = dr2 + (dr2 - dr1)/15\n",
    "    return dr, 2*h, h_prox      # Retorna o incremento de r e os tamanhos\n",
    "                                # do passo atual e do próximo passo "
   ]
  },
  {
   "cell_type": "markdown",
   "metadata": {
    "colab_type": "text",
    "id": "whQb32lSTcqW"
   },
   "source": [
    "Condicoes iniciais (e.g.: r(a))"
   ]
  },
  {
   "cell_type": "code",
   "execution_count": 0,
   "metadata": {
    "colab": {},
    "colab_type": "code",
    "id": "nWmS7fuGejQ-"
   },
   "outputs": [],
   "source": [
    "ra = array([1.,-1.],float)\n",
    "r = ra\n",
    "t = a\n",
    "h_atual = h\n",
    "\n",
    "t_lista, x_lista, v_lista, h_lista = [], [], [], []"
   ]
  },
  {
   "cell_type": "code",
   "execution_count": 0,
   "metadata": {
    "colab": {},
    "colab_type": "code",
    "id": "pK_QIVV1UApa"
   },
   "outputs": [],
   "source": [
    "while t<=b:\n",
    "    t_lista.append(t)\n",
    "    x_lista.append(r[0])\n",
    "    v_lista.append(r[1])\n",
    "    h_lista.append(h_atual)\n",
    "    dr, h_atual, h_prox = passo_adapt_extloc(f,r,t,h,prec)\n",
    "    t, r = t + h_atual, r + dr\n",
    "    h = h_prox"
   ]
  },
  {
   "cell_type": "code",
   "execution_count": 0,
   "metadata": {
    "colab": {},
    "colab_type": "code",
    "id": "eVrw9_pp4Z5J"
   },
   "outputs": [],
   "source": [
    "x_exato = [] \n",
    "t_exato = arange(a,b,1e-2)\n",
    "for t in t_exato:  # Criando a lista com a solução exata\n",
    "    x_exato.append(solucao_analitica(t))"
   ]
  },
  {
   "cell_type": "code",
   "execution_count": 0,
   "metadata": {
    "colab": {
     "base_uri": "https://localhost:8080/",
     "height": 279
    },
    "colab_type": "code",
    "id": "5o4NJsgrXByc",
    "outputId": "192eb731-7996-4d07-9358-c216c652ea7e"
   },
   "outputs": [
    {
     "data": {
      "image/png": "[encoded data removed]",
      "text/plain": [
       "<Figure size 432x288 with 1 Axes>"
      ]
     },
     "metadata": {
      "tags": []
     },
     "output_type": "display_data"
    }
   ],
   "source": [
    "plt.plot(t_exato, x_exato, label='solucao exata')\n",
    "plt.plot(t_lista, x_lista, '.', label='solucao numerica')\n",
    "plt.plot(t_lista, h_lista, '.', label='tamanho de cada passo')\n",
    "plt.xlabel(\"t\")\n",
    "plt.ylabel(\"x(t), h(t)\")\n",
    "plt.legend(loc='upper right')\n",
    "plt.show()"
   ]
  }
 ],
 "metadata": {
  "colab": {
   "authorship_tag": "ABX9TyO1w0kdQE2V6SV/c/f3ZIkl",
   "include_colab_link": true,
   "name": "Questao1_1e2.ipynb",
   "provenance": []
  },
  "kernelspec": {
   "display_name": "Python 3",
   "language": "python",
   "name": "python3"
  },
  "language_info": {
   "codemirror_mode": {
    "name": "ipython",
    "version": 3
   },
   "file_extension": ".py",
   "mimetype": "text/x-python",
   "name": "python",
   "nbconvert_exporter": "python",
   "pygments_lexer": "ipython3",
   "version": "3.7.6"
  }
 },
 "nbformat": 4,
 "nbformat_minor": 1
}

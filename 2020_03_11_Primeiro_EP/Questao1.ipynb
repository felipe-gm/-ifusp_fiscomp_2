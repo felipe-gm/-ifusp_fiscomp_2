{
  "nbformat": 4,
  "nbformat_minor": 0,
  "metadata": {
    "colab": {
      "name": "Questao1.ipynb",
      "provenance": [],
      "toc_visible": true,
      "authorship_tag": "ABX9TyNYJmxTK9f++FyeUA6wV7Ej",
      "include_colab_link": true
    },
    "kernelspec": {
      "name": "python3",
      "display_name": "Python 3"
    }
  },
  "cells": [
    {
      "cell_type": "markdown",
      "metadata": {
        "id": "view-in-github",
        "colab_type": "text"
      },
      "source": [
        "<a href=\"https://colab.research.google.com/github/felipe-gm/-ifusp_fiscomp_2/blob/master/2020_03_11_Primeiro_EP/Questao1.ipynb\" target=\"_parent\"><img src=\"https://colab.research.google.com/assets/colab-badge.svg\" alt=\"Open In Colab\"/></a>"
      ]
    },
    {
      "cell_type": "code",
      "metadata": {
        "id": "lNLQrcghn6Br",
        "colab_type": "code",
        "colab": {}
      },
      "source": [
        "from math  import floor\n",
        "from numpy import arange\n",
        "\n",
        "import matplotlib.pyplot as plt"
      ],
      "execution_count": 0,
      "outputs": []
    },
    {
      "cell_type": "markdown",
      "metadata": {
        "id": "rO4k_yEbmiy8",
        "colab_type": "text"
      },
      "source": [
        "# Programa"
      ]
    },
    {
      "cell_type": "code",
      "metadata": {
        "id": "zpTthuHcmNFY",
        "colab_type": "code",
        "colab": {}
      },
      "source": [
        "def f(x,t):\n",
        "  \"\"\"Equacao de diferenca:\n",
        "    f(x,t) := dV_out/dt = (V_in-V_out)/RC.\n",
        "\n",
        "  Positional arguments:\n",
        "  x -- tensao de saida (type float)\n",
        "  t -- tempo (type float)\n",
        "  \"\"\"\n",
        "  return (V_in(t)-x)/RC"
      ],
      "execution_count": 0,
      "outputs": []
    },
    {
      "cell_type": "code",
      "metadata": {
        "id": "nbkt-3XlucZ_",
        "colab_type": "code",
        "colab": {}
      },
      "source": [
        "def rk4_integration(RC):\n",
        "  \"\"\"Integra \n",
        "    f(x,t) := dV_out/dt = (V_in-V_out)/RC\n",
        "  usando o metodo de Runge-Kutta de quarta ordem parametrizando em RC.\n",
        "\n",
        "  Positional arguments:\n",
        "  RC -- time constant of an RC circuit (type float)\n",
        "  \"\"\"\n",
        "  x_rk4 = []\n",
        "\n",
        "  x = xa\n",
        "  for t in t_rk4:\n",
        "    x_rk4.append(x)\n",
        "    k1 = h*f(x,t)\n",
        "    k2 = h*f(x+.5*k1,t+.5*h)\n",
        "    k3 = h*f(x+.5*k2,t+.5*h)\n",
        "    k4 = h*f(x+k3,t+h)\n",
        "    x += (k1+2*k2+2*k3+k4)\n",
        "  \n",
        "  return x_rk4"
      ],
      "execution_count": 0,
      "outputs": []
    },
    {
      "cell_type": "code",
      "metadata": {
        "id": "ZzWlNwSOnY6X",
        "colab_type": "code",
        "colab": {}
      },
      "source": [
        "def V_in(t):\n",
        "  \"\"\"Sinal de entrada dado por uma onda quadrada, centrada em 0 com altura 1:\n",
        "    V_in(t) = \n",
        "      1, se floor(2t) eh par,\n",
        "      -1, se floor(2t) eh impar.\n",
        "\n",
        "  Positional arguments:\n",
        "  t -- tempo (type float)\n",
        "  \"\"\"\n",
        "  if floor(t)%2==0: return 1\n",
        "  return -1"
      ],
      "execution_count": 0,
      "outputs": []
    },
    {
      "cell_type": "markdown",
      "metadata": {
        "id": "7iDMXkeYzXyR",
        "colab_type": "text"
      },
      "source": [
        "Parametrizacao do programa"
      ]
    },
    {
      "cell_type": "code",
      "metadata": {
        "id": "L5FuE018oKXW",
        "colab_type": "code",
        "colab": {}
      },
      "source": [
        "a = 0.0           # Início do intervalo\n",
        "b = 10.0          # Final do intervalo\n",
        "\n",
        "ls_RC = [0.01, 0.1, 1]\n",
        "\n",
        "xa = 0.0          # Condição inicial, ou seja, x(a)"
      ],
      "execution_count": 0,
      "outputs": []
    },
    {
      "cell_type": "markdown",
      "metadata": {
        "id": "aPxGQCv6zjF8",
        "colab_type": "text"
      },
      "source": [
        "Decisao de h"
      ]
    },
    {
      "cell_type": "code",
      "metadata": {
        "id": "yGKGMTNhpA6R",
        "colab_type": "code",
        "colab": {}
      },
      "source": [
        "h = 1e-5 # REQ: good precision runtime-duration rate <FGM 2020-03-24 s:done>"
      ],
      "execution_count": 0,
      "outputs": []
    },
    {
      "cell_type": "markdown",
      "metadata": {
        "id": "jJNR1-hR1SAO",
        "colab_type": "text"
      },
      "source": [
        "Integrar"
      ]
    },
    {
      "cell_type": "code",
      "metadata": {
        "id": "COYe7tKtrj4u",
        "colab_type": "code",
        "colab": {}
      },
      "source": [
        "t_rk4 = arange(a,b,h)\n",
        "\n",
        "dict_x_rk4 = {}\n",
        "for RC in ls_RC:\n",
        "  dict_x_rk4[RC] = rk4_integration(RC)"
      ],
      "execution_count": 0,
      "outputs": []
    },
    {
      "cell_type": "markdown",
      "metadata": {
        "id": "RotQJnYf1gWs",
        "colab_type": "text"
      },
      "source": [
        "Graficar"
      ]
    },
    {
      "cell_type": "code",
      "metadata": {
        "id": "qamOwvmGtpOF",
        "colab_type": "code",
        "colab": {
          "base_uri": "https://localhost:8080/",
          "height": 279
        },
        "outputId": "4430221a-2835-4e5f-bc9a-87bf075443a7"
      },
      "source": [
        "for RC in ls_RC:\n",
        "  plt.plot(t_rk4, dict_x_rk4[RC], label=RC)\n",
        "plt.xlabel(\"t\")\n",
        "plt.ylabel(\"V_out\")\n",
        "plt.legend(loc='upper right')\n",
        "plt.show()"
      ],
      "execution_count": 8,
      "outputs": [
        {
          "output_type": "display_data",
          "data": {
            "image/png": "[encoded data removed]",
            "text/plain": [
              "<Figure size 432x288 with 1 Axes>"
            ]
          },
          "metadata": {
            "tags": []
          }
        }
      ]
    },
    {
      "cell_type": "markdown",
      "metadata": {
        "id": "9baMpHTQmsU6",
        "colab_type": "text"
      },
      "source": [
        "# Descricao\n",
        "\n",
        "O grafico exposto aponta que o aumento em $RC$ suaviza mais as\n",
        "descontinuidades do sinal de entrada $V_{in}$. $RC$ é o tempo necessario\n",
        "para carrgar $e^{-1}$ de uma diferenca de potencial.\n",
        "\n",
        "Sabemos que os auto-vetores da equção diferencial do \"passa-baixas\"\n",
        "formam a base de Fourrier. Na representacao do sinal pela base de\n",
        "Fourrier que o nome do filtro ganha semantica, pois os auto-valores\n",
        "associados decrescem com a frequencia. Assim, as frequencias mais altas\n",
        "ficam mais atenuadas repercutindo nessa atenuação das variacoes do sinal filtrado."
      ]
    }
  ]
}
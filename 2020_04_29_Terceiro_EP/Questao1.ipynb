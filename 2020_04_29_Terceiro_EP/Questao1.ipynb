{
 "cells": [
  {
   "cell_type": "markdown",
   "metadata": {},
   "source": [
    "Standard library imports."
   ]
  },
  {
   "cell_type": "code",
   "execution_count": 1,
   "metadata": {},
   "outputs": [],
   "source": [
    "import sys"
   ]
  },
  {
   "cell_type": "markdown",
   "metadata": {},
   "source": [
    "Related third party imports."
   ]
  },
  {
   "cell_type": "code",
   "execution_count": 2,
   "metadata": {},
   "outputs": [],
   "source": [
    "from numpy import array, empty\n",
    "\n",
    "import matplotlib.pyplot as plt"
   ]
  },
  {
   "cell_type": "markdown",
   "metadata": {},
   "source": [
    "Variaveis globais"
   ]
  },
  {
   "cell_type": "code",
   "execution_count": 3,
   "metadata": {},
   "outputs": [],
   "source": [
    "# Parametros da exibicao dos graficos\n",
    "plt.rcParams['xtick.labelsize'] = 22\n",
    "plt.rcParams['ytick.labelsize'] = 22\n",
    "plt.rcParams['axes.labelsize'] = 26\n",
    "plt.rcParams['axes.titlesize'] = 30\n",
    "\n",
    "# Do item 1\n",
    "prec = 1e-7    # precisao da solucao\n",
    "nmax = 8    # Numero maximo de iteracoes do algoritmo de Bulirsch-Stoer\n",
    "a = .0    # Inicio do intervalo de integracao\n",
    "H = 1.    # Tamanho sugerido do passo de integracao\n",
    "\n",
    "# Do item 2\n",
    "prec_b = 1e-2"
   ]
  },
  {
   "cell_type": "markdown",
   "metadata": {},
   "source": [
    "Constantes"
   ]
  },
  {
   "cell_type": "code",
   "execution_count": 4,
   "metadata": {},
   "outputs": [],
   "source": [
    "# Do item 1\n",
    "B, K = .5, 1./14.\n",
    "\n",
    "# Do item 2\n",
    "CAPACIDADE, ATENDER = 4e-4, 5e-2"
   ]
  },
  {
   "cell_type": "markdown",
   "metadata": {},
   "source": [
    "# Item 1"
   ]
  },
  {
   "cell_type": "markdown",
   "metadata": {},
   "source": [
    "Condicoes iniciais"
   ]
  },
  {
   "cell_type": "code",
   "execution_count": 5,
   "metadata": {},
   "outputs": [],
   "source": [
    "i_0, r_0 = 1e-6, 0\n",
    "s_0 = 1 - i_0 - r_0"
   ]
  },
  {
   "cell_type": "markdown",
   "metadata": {},
   "source": [
    "Equacoes de diferenca"
   ]
  },
  {
   "cell_type": "code",
   "execution_count": 6,
   "metadata": {},
   "outputs": [],
   "source": [
    "def f(r,t):\n",
    "    s, i = r[:2]\n",
    "    fs, fr = -B*s*i, K*i\n",
    "    fi = -fs-fr\n",
    "    return array([fs,fi,fr],float)"
   ]
  },
  {
   "cell_type": "markdown",
   "metadata": {},
   "source": [
    "Metodo de integracao"
   ]
  },
  {
   "cell_type": "code",
   "execution_count": 7,
   "metadata": {},
   "outputs": [],
   "source": [
    "def passo_mbs_indiv(f,r,t,H,prec,nmax):\n",
    "    # Calcula um passo no metodo de Bulirsch-Stoer. Caso se atinjam\n",
    "    # 'nmax' iteracoes sem convergencia, retorna a informacao\n",
    "    # Inicializamos com um passo do metodo do ponto medio modificado\n",
    "    # A matriz R1 armazena a primeira linha da tabela de extrapolacao.\n",
    "    # Por agora, essa linha contem apenas a estimativa do metodo do\n",
    "    # ponto medio modificado para a solucao no final do intervalo.\n",
    "    converge = False\n",
    "    n = 1\n",
    "    y = r + 0.5*H*f(r,t)\n",
    "    x = r + H*f(y,t+0.5*H)\n",
    "    R1 = empty([1,r.shape[0]],float)\n",
    "    R1[0] = 0.5*(y + x + 0.5*H*f(x,t+H))\n",
    "    # Agora fazemos um laco aumentando o valor de n ate que a precisao\n",
    "    # seja atingida.\n",
    "    for n in range(2,nmax+1):\n",
    "        h = H/n\n",
    "        # Metodo do ponto medio modificado\n",
    "        y = r + 0.5*h*f(r,t)\n",
    "        x = r + h*f(y,t+0.5*h)\n",
    "        for i in range(n-1):\n",
    "            y += h*f(x,t+(i+1.0)*h)\n",
    "            x += h*f(y,t+(i+1.5)*h)\n",
    "        # Calculando as estimativas por extrapolacao.\n",
    "        # As matrizes R1 e R2 armazenam a penultima e a ultima\n",
    "        # linhas mais recentes da tabela\n",
    "        R2 = empty([n,r.shape[0]],float)\n",
    "        R2[0] = 0.5*(y + x + 0.5*h*f(x,t+h))\n",
    "        for m in range(1,n):\n",
    "            epsilon = (R2[m-1]-R1[m-1])/((n/(n-1))**(2*m)-1)\n",
    "            R2[m] = R2[m-1] + epsilon\n",
    "        erro = max(abs(epsilon[0]),abs(epsilon[1]),abs(epsilon[2]))\n",
    "        if erro <= H*prec:\n",
    "            converge = True\n",
    "            break\n",
    "        R1 = R2\n",
    "    # Fazemos r igual a estimativa mais precisa de que dispomos\n",
    "    r = R2[n-1]\n",
    "    return converge, r  # Retornamos o NOVO VALOR de r"
   ]
  },
  {
   "cell_type": "code",
   "execution_count": 8,
   "metadata": {},
   "outputs": [],
   "source": [
    "def passo_mbs_adapt(f,H,prec,nmax,r_lista,t_lista):\n",
    "    # Calcula um passo no metodo de Bulirsch-Stoer adaptativo.\n",
    "    # Esta funcao nao retorna nenhum valor, mas apenas atualiza as listas\n",
    "    # de t e de r ao atingir convergencia em ate 'nmax' iteracoes\n",
    "    r = r_lista[-1]\n",
    "    t = t_lista[-1]\n",
    "    converge, r = passo_mbs_indiv(f,r,t,H,prec,nmax)\n",
    "    if converge == False: # Se nao houve convergencia, divida o passo por 2\n",
    "        passo_mbs_adapt(f,H/2,prec,nmax,r_lista,t_lista)\n",
    "    else:\n",
    "        t_lista.append(t+H)\n",
    "        r_lista.append(r)"
   ]
  },
  {
   "cell_type": "code",
   "execution_count": 9,
   "metadata": {},
   "outputs": [],
   "source": [
    "def integ_mbs_adapt(f,r_a,a,H,prec,nmax,r_lista,t_lista):\n",
    "    # Esta funcao percorre o intervalo de integracao, determinando os\n",
    "    # valores de r e t com passo maximo de tamanho H, que e subdividido\n",
    "    # caso nao se atinja a precisao requerida em ate 'nmax' iteracoes\n",
    "    # do algoritmo de Bulirsch-Stoer. A funcao nao retorna um valor,\n",
    "    # mas atualiza as listas de r e t.\n",
    "    t = a\n",
    "    t_lista.append(t)    # Registramos o valor inicial de t\n",
    "    r_lista.append(r_a)  # Registramos o valor inicial de r\n",
    "    while r_lista[-1][1] > prec:\n",
    "        passo_mbs_adapt(f,H,prec,nmax,r_lista,t_lista)\n",
    "        t = t_lista[-1]  # Atualizamos t para o ultimo valor calculado"
   ]
  },
  {
   "cell_type": "markdown",
   "metadata": {},
   "source": [
    "Integrar"
   ]
  },
  {
   "cell_type": "code",
   "execution_count": 10,
   "metadata": {},
   "outputs": [],
   "source": [
    "r_a = array([s_0, i_0, r_0],float)    # Condicao inicial\n",
    "r_lista, t_lista = [], []\n",
    "integ_mbs_adapt(f,r_a,a,H,prec,nmax,r_lista,t_lista)"
   ]
  },
  {
   "cell_type": "markdown",
   "metadata": {},
   "source": [
    "Para garantir que os resultados sao confiaveis utilizei o metodo de\n",
    "Bulirsch-Stoer, pois sabemos que a quantidade\n",
    "$$\n",
    "    s(t) + i(t) + r(t) = 1\n",
    "$$\n",
    "eh consevada em t."
   ]
  },
  {
   "cell_type": "markdown",
   "metadata": {},
   "source": [
    "E observamos que para cada passo $ | s \\left( t \\right) + i \\left( t \\right) + r \\left( t \\right) -1| \\leq prec.$"
   ]
  },
  {
   "cell_type": "code",
   "execution_count": 11,
   "metadata": {},
   "outputs": [
    {
     "name": "stdout",
     "output_type": "stream",
     "text": [
      "Total de passos em que |s(t)+i(t)+r(t)-1|>prec: 0\n"
     ]
    }
   ],
   "source": [
    "# Lista booleana dos passos que |s(t)+i(t)+r(t)-1|>prec \n",
    "n_lista = [abs(1-arr.sum())>prec for arr in r_lista]\n",
    "print('Total de passos em que |s(t)+i(t)+r(t)-1|>prec:',sum(n_lista))"
   ]
  },
  {
   "cell_type": "code",
   "execution_count": 12,
   "metadata": {},
   "outputs": [],
   "source": [
    "inf_lista = [r[1] for r in r_lista]\n",
    "rec_lista = [r[2] for r in r_lista]"
   ]
  },
  {
   "cell_type": "code",
   "execution_count": 13,
   "metadata": {},
   "outputs": [
    {
     "data": {
      "image/png": "[encoded data removed]",
      "text/plain": [
       "<Figure size 864x648 with 1 Axes>"
      ]
     },
     "metadata": {
      "needs_background": "light"
     },
     "output_type": "display_data"
    }
   ],
   "source": [
    "plt.figure(figsize=(12,9))\n",
    "plt.title(\"Bulirsch-Stoer adaptativo\")\n",
    "plt.xlabel(\"t\")\n",
    "plt.ylabel(\"i(t), r(t)\")\n",
    "plt.plot(t_lista,inf_lista,label=\"Numero de infectados\")\n",
    "plt.plot(t_lista,rec_lista,label=\"Numero de recuperados\")\n",
    "plt.legend(loc='upper right')\n",
    "plt.show()"
   ]
  },
  {
   "cell_type": "markdown",
   "metadata": {},
   "source": [
    "Em primeiro momento nao ha recuperados na populacao, assim os \n",
    "contaminados aumentam. Conforme a doenca se espalha, o numero de\n",
    "suscetiveis diminui freando o crescimento dos infectados ate que a\n",
    "velocidade em que se curam fica maior. A partir deste momento, a\n",
    "quantidade de infectados diminui com seu fator de decaimento exponecial\n",
    "se tornando mais predominante."
   ]
  },
  {
   "cell_type": "markdown",
   "metadata": {},
   "source": [
    "# Item 2\n",
    "\n",
    "Solucao via metodo da bisseccao (busca binaria)"
   ]
  },
  {
   "cell_type": "code",
   "execution_count": 14,
   "metadata": {},
   "outputs": [],
   "source": [
    "b1 = 1e-2   # Palpite de um B menor que o desejado\n",
    "r_lista1, t_lista1 = [], []\n",
    "B = b1\n",
    "integ_mbs_adapt(f,r_a,a,H,prec,nmax,r_lista1,t_lista1)\n",
    "\n",
    "b2 = 1e1   # Palpite de um B maior que o desejado\n",
    "r_lista2, t_lista2 = [], []\n",
    "B = b2\n",
    "integ_mbs_adapt(f,r_a,a,H,prec,nmax,r_lista2,t_lista2)"
   ]
  },
  {
   "cell_type": "code",
   "execution_count": 15,
   "metadata": {},
   "outputs": [],
   "source": [
    "atendimentos_lista1 = [r[1]*ATENDER for r in r_lista1]\n",
    "atendimentos_lista2 = [r[1]*ATENDER for r in r_lista2]"
   ]
  },
  {
   "cell_type": "code",
   "execution_count": 16,
   "metadata": {},
   "outputs": [
    {
     "name": "stdout",
     "output_type": "stream",
     "text": [
      "O maximo valor de b para \"achatar a curva\" de infectados de tal forma a\n",
      "nunca ultrapassar a capacidade de atendimento eh 0.083\n"
     ]
    }
   ],
   "source": [
    "altura1 = max(atendimentos_lista1) - CAPACIDADE\n",
    "altura2 = max(atendimentos_lista2) - CAPACIDADE\n",
    "if (altura1*altura2 > 0):\n",
    "    sys.exit(\"Alturas relativas com mesmo sinal. Modifique Bs.\")\n",
    "while abs(b2-b1) > prec_b:\n",
    "    bp = (b1+b2)/2                           # Media entre 'b1' e 'b2'\n",
    "    r_listap, t_listap = [], []\n",
    "    B = bp\n",
    "    integ_mbs_adapt(f,r_a,a,H,prec,nmax,r_listap,t_listap)\n",
    "    \n",
    "    atendimentos_listap = [r[1]*ATENDER for r in r_listap]\n",
    "\n",
    "    alturap = max(atendimentos_listap) - CAPACIDADE\n",
    "    if (altura1 * alturap) > 0:              # Altura final menor que desejada? \n",
    "        b1, altura1 = bp, alturap            # Sim; aumentamos o palpite 'b1'\n",
    "    else:\n",
    "        b2, altura2 = bp, alturap            # Nao; diminuimos o palpite 'b2'\n",
    "b = round((b1+b2)/2, 3)       # Resultado final do calculo\n",
    "\n",
    "print(\n",
    "    '''O maximo valor de b para \"achatar a curva\" de infectados de tal forma a\n",
    "nunca ultrapassar a capacidade de atendimento eh''',\n",
    "    b)"
   ]
  },
  {
   "cell_type": "code",
   "execution_count": 17,
   "metadata": {},
   "outputs": [],
   "source": [
    "r_listap, t_listap = [], []\n",
    "B = b\n",
    "integ_mbs_adapt(f,r_a,a,H,prec,nmax,r_listap,t_listap)"
   ]
  },
  {
   "cell_type": "code",
   "execution_count": 18,
   "metadata": {},
   "outputs": [
    {
     "name": "stdout",
     "output_type": "stream",
     "text": [
      "A fracao maxima de recuperados ao final da pandemia para b = 0.083:\n",
      "0.265\n"
     ]
    }
   ],
   "source": [
    "print(f'A fracao maxima de recuperados ao final da pandemia para b = {B}:')\n",
    "print(round(r_listap[-1][2], 3))"
   ]
  },
  {
   "cell_type": "code",
   "execution_count": 19,
   "metadata": {},
   "outputs": [
    {
     "name": "stdout",
     "output_type": "stream",
     "text": [
      "A fracao maxima de recuperados ao final da pandemia para b = 1/2:\n",
      "0.999\n"
     ]
    }
   ],
   "source": [
    "print('A fracao maxima de recuperados ao final da pandemia para b = 1/2:')\n",
    "print(round(rec_lista[-1], 3))"
   ]
  },
  {
   "cell_type": "markdown",
   "metadata": {},
   "source": [
    "Eh interessante observar que para sair do regime em que a doenca nao\n",
    "satura o sistema de atendimento precisamos sair tambem do regime em que\n",
    "a pandemia atinge toda a populacao, para o K dado."
   ]
  },
  {
   "cell_type": "code",
   "execution_count": 20,
   "metadata": {},
   "outputs": [
    {
     "name": "stdout",
     "output_type": "stream",
     "text": [
      "A quantidade de dias que um individuo infectado deve permanecer sem ter\n",
      "contatos com individuos suscetiveis eh aprox. 12 dias.\n"
     ]
    }
   ],
   "source": [
    "print(\n",
    "    '''A quantidade de dias que um individuo infectado deve permanecer sem ter\n",
    "contatos com individuos suscetiveis eh aprox.''',\n",
    "    round(1/b),\n",
    "    'dias.')"
   ]
  }
 ],
 "metadata": {
  "kernelspec": {
   "display_name": "Python 3",
   "language": "python",
   "name": "python3"
  },
  "language_info": {
   "codemirror_mode": {
    "name": "ipython",
    "version": 3
   },
   "file_extension": ".py",
   "mimetype": "text/x-python",
   "name": "python",
   "nbconvert_exporter": "python",
   "pygments_lexer": "ipython3",
   "version": "3.7.6"
  }
 },
 "nbformat": 4,
 "nbformat_minor": 4
}
